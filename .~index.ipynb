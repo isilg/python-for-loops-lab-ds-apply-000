{
 "cells": [
  {
   "cell_type": "markdown",
   "metadata": {},
   "source": [
    "# Python For loops Lab"
   ]
  },
  {
   "cell_type": "markdown",
   "metadata": {},
   "source": [
    "### Learning Objectives"
   ]
  },
  {
   "cell_type": "markdown",
   "metadata": {},
   "source": [
    "* Understand how for loops can help us reduce repetition\n",
    "* Understand the syntax of for loops "
   ]
  },
  {
   "cell_type": "markdown",
   "metadata": {},
   "source": [
    "### Picking up where we last left off"
   ]
  },
  {
   "cell_type": "markdown",
   "metadata": {},
   "source": [
    "In the last lesson, we worked with some of our travel data.  Let's retrieve a list with our travel information again from excel.  First, we read the information from excel as a list of dictionaries, with each dictionary representing a location.  And we assign this list to the variable `cities`."
   ]
  },
  {
   "cell_type": "code",
   "execution_count": 1,
   "metadata": {},
   "outputs": [],
   "source": [
    "import pandas\n",
    "file_name = './cities.xlsx'\n",
    "travel_df = pandas.read_excel(file_name)\n",
    "cities = travel_df.to_dict('records')"
   ]
  },
  {
   "cell_type": "markdown",
   "metadata": {},
   "source": [
    "Next, we retrieve the first three city names, stored as the `'City'` attribute of each dictionary, and `'Population'` of each of the cities.  Then we plot the names as our `x_values` and the populations as our `y_values`."
   ]
  },
  {
   "cell_type": "code",
   "execution_count": 6,
   "metadata": {},
   "outputs": [
    {
     "data": {
      "text/html": [
       "<script>requirejs.config({paths: { 'plotly': ['https://cdn.plot.ly/plotly-latest.min']},});if(!window.Plotly) {{require(['plotly'],function(plotly) {window.Plotly=plotly;});}}</script>"
      ],
      "text/vnd.plotly.v1+html": [
       "<script>requirejs.config({paths: { 'plotly': ['https://cdn.plot.ly/plotly-latest.min']},});if(!window.Plotly) {{require(['plotly'],function(plotly) {window.Plotly=plotly;});}}</script>"
      ]
     },
     "metadata": {},
     "output_type": "display_data"
    },
    {
     "data": {
      "application/vnd.plotly.v1+json": {
       "data": [
        {
         "type": "bar",
         "uid": "2c39253a-a28f-11e9-9b77-ab660b103a08",
         "x": [
          "Buenos Aires",
          "Toronto",
          "Pyeongchang"
         ],
         "y": [
          2891000,
          2800000,
          2581000
         ]
        }
       ],
       "layout": {}
      },
      "text/html": [
       "<div id=\"193c0fef-20bf-4a3f-9e21-db261d0d2abd\" style=\"height: 525px; width: 100%;\" class=\"plotly-graph-div\"></div><script type=\"text/javascript\">require([\"plotly\"], function(Plotly) { window.PLOTLYENV=window.PLOTLYENV || {};window.PLOTLYENV.BASE_URL=\"https://plot.ly\";Plotly.newPlot(\"193c0fef-20bf-4a3f-9e21-db261d0d2abd\", [{\"x\": [\"Buenos Aires\", \"Toronto\", \"Pyeongchang\"], \"y\": [2891000, 2800000, 2581000], \"type\": \"bar\", \"uid\": \"2c567a36-a28f-11e9-9b77-ab660b103a08\"}], {}, {\"showLink\": true, \"linkText\": \"Export to plot.ly\"})});</script>"
      ],
      "text/vnd.plotly.v1+html": [
       "<div id=\"193c0fef-20bf-4a3f-9e21-db261d0d2abd\" style=\"height: 525px; width: 100%;\" class=\"plotly-graph-div\"></div><script type=\"text/javascript\">require([\"plotly\"], function(Plotly) { window.PLOTLYENV=window.PLOTLYENV || {};window.PLOTLYENV.BASE_URL=\"https://plot.ly\";Plotly.newPlot(\"193c0fef-20bf-4a3f-9e21-db261d0d2abd\", [{\"x\": [\"Buenos Aires\", \"Toronto\", \"Pyeongchang\"], \"y\": [2891000, 2800000, 2581000], \"type\": \"bar\", \"uid\": \"2c567a36-a28f-11e9-9b77-ab660b103a08\"}], {}, {\"showLink\": true, \"linkText\": \"Export to plot.ly\"})});</script>"
      ]
     },
     "metadata": {},
     "output_type": "display_data"
    }
   ],
   "source": [
    "import plotly\n",
    "\n",
    "plotly.offline.init_notebook_mode(connected=True)\n",
    "\n",
    "x_values = [cities[0]['City'], cities[1]['City'], cities[2]['City']]\n",
    "y_values = [cities[0]['Population'], cities[1]['Population'], cities[2]['Population']]\n",
    "trace_first_three_pops = {'x': x_values, 'y': y_values, 'type': 'bar'}\n",
    "plotly.offline.iplot([trace_first_three_pops])"
   ]
  },
  {
   "cell_type": "markdown",
   "metadata": {},
   "source": [
    "Of course, as you may have spotted, there is a good amount of repetition in displaying this data.  Just take a look at how we retrieved the data for our `x_values` and `y_values`.  "
   ]
  },
  {
   "cell_type": "code",
   "execution_count": 2,
   "metadata": {},
   "outputs": [],
   "source": [
    "x_values = [cities[0]['City'], cities[1]['City'], cities[2]['City']]\n",
    "y_values = [cities[0]['Population'], cities[1]['Population'], cities[2]['Population']]"
   ]
  },
  {
   "cell_type": "markdown",
   "metadata": {},
   "source": [
    "So in this lesson, we will use our `for` loop to display information about our travel locations with less repetition."
   ]
  },
  {
   "cell_type": "markdown",
   "metadata": {},
   "source": [
    "### Working with the For Loop"
   ]
  },
  {
   "cell_type": "markdown",
   "metadata": {},
   "source": [
    "Our `cities` list contains information about the top 12 cities.  For our upcoming iteration tasks, it will be useful to have a list of the numbers 0 through 11.  Use what we know about `len` and `range`to generate a list of numbers 1 through 11.  Assign this to a variable called `city_indices`."
   ]
  },
  {
   "cell_type": "code",
   "execution_count": 3,
   "metadata": {},
   "outputs": [
    {
     "data": {
      "text/plain": [
       "range(0, 12)"
      ]
     },
     "execution_count": 3,
     "metadata": {},
     "output_type": "execute_result"
    }
   ],
   "source": [
    "city_indices = None\n",
    "city_indices # [0, 1, 2, 3, 4, 5, 6, 7, 8, 9, 10, 11]\n",
    "\n",
    "city_indices = range(0,len(cities))\n",
    "city_indices"
   ]
  },
  {
   "cell_type": "markdown",
   "metadata": {},
   "source": [
    "Now we want to create labels for each of the cities. We'll provide a list of the `city_names` for you. "
   ]
  },
  {
   "cell_type": "code",
   "execution_count": 4,
   "metadata": {},
   "outputs": [],
   "source": [
    "city_names = ['Buenos Aires',\n",
    " 'Toronto',\n",
    " 'Pyeongchang',\n",
    " 'Marakesh',\n",
    " 'Albuquerque',\n",
    " 'Los Cabos',\n",
    " 'Greenville',\n",
    " 'Archipelago Sea',\n",
    " 'Walla Walla Valley',\n",
    " 'Salina Island',\n",
    " 'Solta',\n",
    " 'Iguazu Falls']"
   ]
  },
  {
   "cell_type": "markdown",
   "metadata": {},
   "source": [
    "Your task is to assign the variable `names_and_ranks` to a list, with each element equal to the city name and it's corresponding rank.  For example, the first element would be, `\"1. Buenos Aires\"` and the second would be `\"2. Toronto\"`.  Use a `for` loop and the lists `city_indices` and `city_names` to accomplish this."
   ]
  },
  {
   "cell_type": "code",
   "execution_count": 5,
   "metadata": {},
   "outputs": [],
   "source": [
    "names_and_ranks = ['change this to different elements'] # make sure the list is empty"
   ]
  },
  {
   "cell_type": "code",
   "execution_count": 6,
   "metadata": {
    "scrolled": true
   },
   "outputs": [
    {
     "name": "stdout",
     "output_type": "stream",
     "text": [
      "(1, '.', 'Buenos Aires')\n",
      "(2, '.', 'Toronto')\n",
      "(3, '.', 'Pyeongchang')\n",
      "(4, '.', 'Marakesh')\n",
      "(5, '.', 'Albuquerque')\n",
      "(6, '.', 'Los Cabos')\n",
      "(7, '.', 'Greenville')\n",
      "(8, '.', 'Archipelago Sea')\n",
      "(9, '.', 'Walla Walla Valley')\n",
      "(10, '.', 'Salina Island')\n",
      "(11, '.', 'Solta')\n",
      "(12, '.', 'Iguazu Falls')\n"
     ]
    }
   ],
   "source": [
    "#names_and_ranks[0] # '1. Buenos Aires'\n",
    "#names_and_ranks[1] # '2. Toronto'\n",
    "#names_and_ranks[-1] # '12. Iguazu Falls'\n",
    "\n",
    "\n",
    "names_and_ranks=[]\n",
    "\n",
    "for number in city_indices:\n",
    "    names_and_ranks= number+1,'.',city_names[number]\n",
    "    print (names_and_ranks)\n",
    "    \n",
    "    \n",
    "    "
   ]
  },
  {
   "cell_type": "markdown",
   "metadata": {},
   "source": [
    "Ok, now let's create a new variable called `city_populations`.  Use a `for` loop to iterate through `cities` and have `city_populations` equal to each of the populations."
   ]
  },
  {
   "cell_type": "code",
   "execution_count": 7,
   "metadata": {},
   "outputs": [],
   "source": [
    "city_populations = []"
   ]
  },
  {
   "cell_type": "code",
   "execution_count": 8,
   "metadata": {},
   "outputs": [
    {
     "name": "stdout",
     "output_type": "stream",
     "text": [
      "(\"Buenos Aires's population:\", 2891000)\n",
      "(\"Toronto's population:\", 2800000)\n",
      "(\"Pyeongchang's population:\", 2581000)\n",
      "(\"Marakesh's population:\", 928850)\n",
      "(\"Albuquerque's population:\", 559277)\n",
      "(\"Los Cabos's population:\", 287651)\n",
      "(\"Greenville's population:\", 84554)\n",
      "(\"Archipelago Sea's population:\", 60000)\n",
      "(\"Walla Walla Valley's population:\", 32237)\n",
      "(\"Salina Island's population:\", 4000)\n",
      "(\"Solta's population:\", 1700)\n",
      "(\"Iguazu Falls's population:\", 0)\n"
     ]
    }
   ],
   "source": [
    "#city_populations[0] # 2891000\n",
    "#city_populations[1] # 2800000\n",
    "#city_populations[-1] # 0\n",
    "\n",
    "\n",
    "for numbers in city_indices:\n",
    "    city_population = city_names[numbers]+\"'s population:\", cities[numbers]['Population']\n",
    "    print (city_population)"
   ]
  },
  {
   "cell_type": "markdown",
   "metadata": {},
   "source": [
    "Great! Now we can begin to plot this data.  First, let's create a trace of our populations and set it to the variable `trace_populations`."
   ]
  },
  {
   "cell_type": "code",
   "execution_count": 9,
   "metadata": {},
   "outputs": [],
   "source": [
    "trace_populations = {'x': names_and_ranks, \n",
    "                     'y': city_populations, \n",
    "                     'text': names_and_ranks, \n",
    "                     'type': 'bar', \n",
    "                     'name': 'populations'}"
   ]
  },
  {
   "cell_type": "code",
   "execution_count": 12,
   "metadata": {},
   "outputs": [
    {
     "data": {
      "text/html": [
       "<script>requirejs.config({paths: { 'plotly': ['https://cdn.plot.ly/plotly-latest.min']},});if(!window.Plotly) {{require(['plotly'],function(plotly) {window.Plotly=plotly;});}}</script>"
      ],
      "text/vnd.plotly.v1+html": [
       "<script>requirejs.config({paths: { 'plotly': ['https://cdn.plot.ly/plotly-latest.min']},});if(!window.Plotly) {{require(['plotly'],function(plotly) {window.Plotly=plotly;});}}</script>"
      ]
     },
     "metadata": {},
     "output_type": "display_data"
    },
    {
     "data": {
      "application/vnd.plotly.v1+json": {
       "data": [
        {
         "name": "populations",
         "text": [
          "12",
          ".",
          "Iguazu Falls"
         ],
         "type": "bar",
         "uid": "171b0648-a292-11e9-95be-e729db3489a6",
         "x": [
          12,
          ".",
          "Iguazu Falls"
         ],
         "y": []
        }
       ],
       "layout": {}
      },
      "text/html": [
       "<div id=\"b416a33b-c91e-420c-ae7b-aa3724c9349b\" style=\"height: 525px; width: 100%;\" class=\"plotly-graph-div\"></div><script type=\"text/javascript\">require([\"plotly\"], function(Plotly) { window.PLOTLYENV=window.PLOTLYENV || {};window.PLOTLYENV.BASE_URL=\"https://plot.ly\";Plotly.newPlot(\"b416a33b-c91e-420c-ae7b-aa3724c9349b\", [{\"name\": \"populations\", \"text\": [\"12\", \".\", \"Iguazu Falls\"], \"x\": [12, \".\", \"Iguazu Falls\"], \"y\": [], \"type\": \"bar\", \"uid\": \"173e4ed2-a292-11e9-95be-e729db3489a6\"}], {}, {\"showLink\": true, \"linkText\": \"Export to plot.ly\"})});</script>"
      ],
      "text/vnd.plotly.v1+html": [
       "<div id=\"b416a33b-c91e-420c-ae7b-aa3724c9349b\" style=\"height: 525px; width: 100%;\" class=\"plotly-graph-div\"></div><script type=\"text/javascript\">require([\"plotly\"], function(Plotly) { window.PLOTLYENV=window.PLOTLYENV || {};window.PLOTLYENV.BASE_URL=\"https://plot.ly\";Plotly.newPlot(\"b416a33b-c91e-420c-ae7b-aa3724c9349b\", [{\"name\": \"populations\", \"text\": [\"12\", \".\", \"Iguazu Falls\"], \"x\": [12, \".\", \"Iguazu Falls\"], \"y\": [], \"type\": \"bar\", \"uid\": \"173e4ed2-a292-11e9-95be-e729db3489a6\"}], {}, {\"showLink\": true, \"linkText\": \"Export to plot.ly\"})});</script>"
      ]
     },
     "metadata": {},
     "output_type": "display_data"
    }
   ],
   "source": [
    "import plotly\n",
    "plotly.offline.init_notebook_mode(connected=True)\n",
    "plotly.offline.iplot([trace_populations])"
   ]
  },
  {
   "cell_type": "markdown",
   "metadata": {},
   "source": [
    "Now we want declare a variable called `city_areas` that points to a list of all of the areas of the cities.  Let's use a `for` loop to iterate through our `cities` and have `city_areas` equal to each area of the city.  "
   ]
  },
  {
   "cell_type": "code",
   "execution_count": 10,
   "metadata": {},
   "outputs": [
    {
     "name": "stdout",
     "output_type": "stream",
     "text": [
      "Buenos Aires 's area is: 4758\n",
      "Toronto 's area is: 2731571\n",
      "Pyeongchang 's area is: 3194\n",
      "Marakesh 's area is: 200\n",
      "Albuquerque 's area is: 491\n",
      "Los Cabos 's area is: 3750\n",
      "Greenville 's area is: 68\n",
      "Archipelago Sea 's area is: 8300\n",
      "Walla Walla Valley 's area is: 33\n",
      "Salina Island 's area is: 27\n",
      "Solta 's area is: 59\n",
      "Iguazu Falls 's area is: 672\n"
     ]
    }
   ],
   "source": [
    "city_areas = [0,1,2,3,4,5,6,7,8,9,10,11]\n",
    "for numbers in city_areas:\n",
    "  print(cities[numbers]['City'], \"'s area is:\" ,cities[numbers]['Area'])"
   ]
  },
  {
   "cell_type": "code",
   "execution_count": 11,
   "metadata": {},
   "outputs": [],
   "source": [
    "trace_areas = {'x': names_and_ranks, 'y': city_areas, 'text': names_and_ranks, 'type': 'bar', 'name': 'areas'}"
   ]
  },
  {
   "cell_type": "code",
   "execution_count": 17,
   "metadata": {},
   "outputs": [
    {
     "data": {
      "text/html": [
       "<script>requirejs.config({paths: { 'plotly': ['https://cdn.plot.ly/plotly-latest.min']},});if(!window.Plotly) {{require(['plotly'],function(plotly) {window.Plotly=plotly;});}}</script>"
      ],
      "text/vnd.plotly.v1+html": [
       "<script>requirejs.config({paths: { 'plotly': ['https://cdn.plot.ly/plotly-latest.min']},});if(!window.Plotly) {{require(['plotly'],function(plotly) {window.Plotly=plotly;});}}</script>"
      ]
     },
     "metadata": {},
     "output_type": "display_data"
    },
    {
     "data": {
      "application/vnd.plotly.v1+json": {
       "data": [
        {
         "name": "populations",
         "text": [
          "12",
          ".",
          "Iguazu Falls"
         ],
         "type": "bar",
         "uid": "bc23d5a8-a28c-11e9-ad83-13cd12be5f1a",
         "x": [
          12,
          ".",
          "Iguazu Falls"
         ],
         "y": [
          0,
          1,
          2,
          3,
          4,
          5,
          6,
          7,
          8,
          9,
          10,
          11
         ]
        },
        {
         "name": "areas",
         "text": [
          "12",
          ".",
          "Iguazu Falls"
         ],
         "type": "bar",
         "uid": "bc23d756-a28c-11e9-ad83-13cd12be5f1a",
         "x": [
          12,
          ".",
          "Iguazu Falls"
         ],
         "y": [
          0,
          1,
          2,
          3,
          4,
          5,
          6,
          7,
          8,
          9,
          10,
          11
         ]
        }
       ],
       "layout": {}
      },
      "text/html": [
       "<div id=\"d64fe530-4e28-45d8-94ee-94ac95162cc6\" style=\"height: 525px; width: 100%;\" class=\"plotly-graph-div\"></div><script type=\"text/javascript\">require([\"plotly\"], function(Plotly) { window.PLOTLYENV=window.PLOTLYENV || {};window.PLOTLYENV.BASE_URL=\"https://plot.ly\";Plotly.newPlot(\"d64fe530-4e28-45d8-94ee-94ac95162cc6\", [{\"name\": \"populations\", \"text\": [\"12\", \".\", \"Iguazu Falls\"], \"x\": [12, \".\", \"Iguazu Falls\"], \"y\": [0, 1, 2, 3, 4, 5, 6, 7, 8, 9, 10, 11], \"type\": \"bar\", \"uid\": \"bc2767a4-a28c-11e9-ad83-13cd12be5f1a\"}, {\"name\": \"areas\", \"text\": [\"12\", \".\", \"Iguazu Falls\"], \"x\": [12, \".\", \"Iguazu Falls\"], \"y\": [0, 1, 2, 3, 4, 5, 6, 7, 8, 9, 10, 11], \"type\": \"bar\", \"uid\": \"bc2768f8-a28c-11e9-ad83-13cd12be5f1a\"}], {}, {\"showLink\": true, \"linkText\": \"Export to plot.ly\"})});</script>"
      ],
      "text/vnd.plotly.v1+html": [
       "<div id=\"d64fe530-4e28-45d8-94ee-94ac95162cc6\" style=\"height: 525px; width: 100%;\" class=\"plotly-graph-div\"></div><script type=\"text/javascript\">require([\"plotly\"], function(Plotly) { window.PLOTLYENV=window.PLOTLYENV || {};window.PLOTLYENV.BASE_URL=\"https://plot.ly\";Plotly.newPlot(\"d64fe530-4e28-45d8-94ee-94ac95162cc6\", [{\"name\": \"populations\", \"text\": [\"12\", \".\", \"Iguazu Falls\"], \"x\": [12, \".\", \"Iguazu Falls\"], \"y\": [0, 1, 2, 3, 4, 5, 6, 7, 8, 9, 10, 11], \"type\": \"bar\", \"uid\": \"bc2767a4-a28c-11e9-ad83-13cd12be5f1a\"}, {\"name\": \"areas\", \"text\": [\"12\", \".\", \"Iguazu Falls\"], \"x\": [12, \".\", \"Iguazu Falls\"], \"y\": [0, 1, 2, 3, 4, 5, 6, 7, 8, 9, 10, 11], \"type\": \"bar\", \"uid\": \"bc2768f8-a28c-11e9-ad83-13cd12be5f1a\"}], {}, {\"showLink\": true, \"linkText\": \"Export to plot.ly\"})});</script>"
      ]
     },
     "metadata": {},
     "output_type": "display_data"
    }
   ],
   "source": [
    "import plotly\n",
    "plotly.offline.init_notebook_mode(connected=True)\n",
    "plotly.offline.iplot([trace_populations, trace_areas])"
   ]
  },
  {
   "cell_type": "markdown",
   "metadata": {},
   "source": [
    "### Summary"
   ]
  },
  {
   "cell_type": "markdown",
   "metadata": {},
   "source": [
    "In this section we saw how we can use `for` loops to go through elements of a list and perform the same operation on each.  By using `for` loops we were able to reduce the amount of code that we wrote and while also writing more expressive code."
   ]
  }
 ],
 "metadata": {
  "kernelspec": {
   "display_name": "Python 3",
   "language": "python",
   "name": "python3"
  },
  "language_info": {
   "codemirror_mode": {
    "name": "ipython",
    "version": 3
   },
   "file_extension": ".py",
   "mimetype": "text/x-python",
   "name": "python",
   "nbconvert_exporter": "python",
   "pygments_lexer": "ipython3",
   "version": "3.6.6"
  }
 },
 "nbformat": 4,
 "nbformat_minor": 2
}
